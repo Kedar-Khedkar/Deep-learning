{
  "cells": [
    {
      "cell_type": "code",
      "execution_count": 1,
      "metadata": {
        "id": "tSlh-0jBepS8"
      },
      "outputs": [],
      "source": [
        "#Importing Libraries\n",
        "import numpy as np\n",
        "import pandas as pd\n",
        "import random\n",
        "import tensorflow as tf\n",
        "import matplotlib.pyplot as plt\n",
        "from sklearn.metrics import accuracy_score\n",
        "from tensorflow.keras.models import Sequential\n",
        "from tensorflow.keras.layers import Flatten, Conv2D, Dense, MaxPooling2D\n",
        "from tensorflow.keras.optimizers import SGD\n",
        "from tensorflow.keras.utils import to_categorical\n",
        "from tensorflow.keras.datasets import mnist"
      ]
    },
    {
      "cell_type": "code",
      "execution_count": 2,
      "metadata": {
        "colab": {
          "base_uri": "https://localhost:8080/"
        },
        "id": "AlUP6fVpe4Co",
        "outputId": "34408a5c-3808-447d-c4b0-fa820122d244"
      },
      "outputs": [],
      "source": [
        "(X_train, y_train), (X_test, y_test) = mnist.load_data()\n"
      ]
    },
    {
      "cell_type": "code",
      "execution_count": 3,
      "metadata": {
        "colab": {
          "base_uri": "https://localhost:8080/"
        },
        "id": "KtjhXpu-fDgE",
        "outputId": "4ea53257-a1fb-4ad2-b0ed-87b02e0b62fd"
      },
      "outputs": [
        {
          "data": {
            "text/plain": [
              "(0.0, 1.0)"
            ]
          },
          "execution_count": 3,
          "metadata": {},
          "output_type": "execute_result"
        }
      ],
      "source": [
        "X_train = (X_train - 0.0) / (255.0 - 0.0)\n",
        "X_test = (X_test - 0.0) / (255.0 - 0.0)\n",
        "X_train[0].min(), X_train[0].max()\n",
        "(0.0, 1.0)\n"
      ]
    },
    {
      "cell_type": "code",
      "execution_count": 4,
      "metadata": {
        "colab": {
          "base_uri": "https://localhost:8080/",
          "height": 584
        },
        "id": "DmaZxztefJWv",
        "outputId": "a84e2063-e458-408a-f3bf-e28ef8c07710"
      },
      "outputs": [
        {
          "data": {
            "image/png": "[encoded data removed]",
            "text/plain": [
              "<Figure size 1152x720 with 20 Axes>"
            ]
          },
          "metadata": {},
          "output_type": "display_data"
        }
      ],
      "source": [
        "def plot_digit(image, digit, plt, i):\n",
        " plt.subplot(4, 5, i + 1)\n",
        " plt.imshow(image, cmap=plt.get_cmap('gray'))\n",
        " plt.title(f\"Digit: {digit}\")\n",
        " plt.xticks([])\n",
        " plt.yticks([])\n",
        "plt.figure(figsize=(16, 10))\n",
        "for i in range(20):\n",
        " plot_digit(X_train[i], y_train[i], plt, i)\n",
        "plt.show()\n"
      ]
    },
    {
      "cell_type": "code",
      "execution_count": 5,
      "metadata": {
        "colab": {
          "base_uri": "https://localhost:8080/"
        },
        "id": "iJj182-4fPm3",
        "outputId": "930695a9-0058-451a-842b-4bf018cd8d27"
      },
      "outputs": [
        {
          "data": {
            "text/plain": [
              "array([5, 0, 4, 1, 9, 2, 1, 3, 1, 4, 3, 5, 3, 6, 1, 7, 2, 8, 6, 9],\n",
              "      dtype=uint8)"
            ]
          },
          "execution_count": 5,
          "metadata": {},
          "output_type": "execute_result"
        }
      ],
      "source": [
        "X_train = X_train.reshape((X_train.shape + (1,)))\n",
        "X_test = X_test.reshape((X_test.shape + (1,)))\n",
        "y_train[0:20]\n"
      ]
    },
    {
      "cell_type": "code",
      "execution_count": 6,
      "metadata": {
        "id": "qA_bYE4-fYC1"
      },
      "outputs": [],
      "source": [
        "model = Sequential([\n",
        " Conv2D(32, (3, 3), activation=\"relu\", input_shape=(28, 28, 1)),\n",
        " MaxPooling2D((2, 2)),\n",
        " Flatten(),\n",
        " Dense(100, activation=\"relu\"),\n",
        " Dense(10, activation=\"softmax\")\n",
        "])\n"
      ]
    },
    {
      "cell_type": "code",
      "execution_count": 7,
      "metadata": {
        "id": "9WNVOL3lfbeq"
      },
      "outputs": [],
      "source": [
        "optimizer = SGD(learning_rate=0.01, momentum=0.9)\n",
        "model.compile(\n",
        " optimizer=optimizer,\n",
        " loss=\"sparse_categorical_crossentropy\",\n",
        " metrics=[\"accuracy\"]\n",
        ")"
      ]
    },
    {
      "cell_type": "code",
      "execution_count": 8,
      "metadata": {
        "colab": {
          "base_uri": "https://localhost:8080/"
        },
        "id": "08szJrflfg30",
        "outputId": "a52dffef-f2ed-4aa3-8c12-4f0e22e5423b"
      },
      "outputs": [
        {
          "name": "stdout",
          "output_type": "stream",
          "text": [
            "Model: \"sequential\"\n",
            "_________________________________________________________________\n",
            " Layer (type)                Output Shape              Param #   \n",
            "=================================================================\n",
            " conv2d (Conv2D)             (None, 26, 26, 32)        320       \n",
            "                                                                 \n",
            " max_pooling2d (MaxPooling2D  (None, 13, 13, 32)       0         \n",
            " )                                                               \n",
            "                                                                 \n",
            " flatten (Flatten)           (None, 5408)              0         \n",
            "                                                                 \n",
            " dense (Dense)               (None, 100)               540900    \n",
            "                                                                 \n",
            " dense_1 (Dense)             (None, 10)                1010      \n",
            "                                                                 \n",
            "=================================================================\n",
            "Total params: 542,230\n",
            "Trainable params: 542,230\n",
            "Non-trainable params: 0\n",
            "_________________________________________________________________\n"
          ]
        }
      ],
      "source": [
        "model.summary()"
      ]
    },
    {
      "cell_type": "code",
      "execution_count": 9,
      "metadata": {
        "colab": {
          "base_uri": "https://localhost:8080/"
        },
        "id": "nJS2Nh2igB8W",
        "outputId": "d8af0de6-2d91-4886-f6ab-a679fb71a1ff"
      },
      "outputs": [
        {
          "name": "stdout",
          "output_type": "stream",
          "text": [
            "Epoch 1/10\n",
            "1875/1875 [==============================] - 39s 20ms/step - loss: 0.2378 - accuracy: 0.9276\n",
            "Epoch 2/10\n",
            "1875/1875 [==============================] - 41s 22ms/step - loss: 0.0788 - accuracy: 0.9762\n",
            "Epoch 3/10\n",
            "1875/1875 [==============================] - 41s 22ms/step - loss: 0.0490 - accuracy: 0.9850\n",
            "Epoch 4/10\n",
            "1875/1875 [==============================] - 41s 22ms/step - loss: 0.0345 - accuracy: 0.9895\n",
            "Epoch 5/10\n",
            "1875/1875 [==============================] - 41s 22ms/step - loss: 0.0247 - accuracy: 0.9924\n",
            "Epoch 6/10\n",
            "1875/1875 [==============================] - 39s 21ms/step - loss: 0.0194 - accuracy: 0.9941\n",
            "Epoch 7/10\n",
            "1875/1875 [==============================] - 34s 18ms/step - loss: 0.0139 - accuracy: 0.9958\n",
            "Epoch 8/10\n",
            "1875/1875 [==============================] - 39s 21ms/step - loss: 0.0111 - accuracy: 0.9970\n",
            "Epoch 9/10\n",
            "1875/1875 [==============================] - 38s 20ms/step - loss: 0.0076 - accuracy: 0.9979\n",
            "Epoch 10/10\n",
            "1875/1875 [==============================] - 38s 20ms/step - loss: 0.0053 - accuracy: 0.9986\n"
          ]
        },
        {
          "data": {
            "text/plain": [
              "<keras.callbacks.History at 0x1ff36dc07c0>"
            ]
          },
          "execution_count": 9,
          "metadata": {},
          "output_type": "execute_result"
        }
      ],
      "source": [
        "model.fit(X_train, y_train, epochs=10, batch_size=32)\n"
      ]
    },
    {
      "cell_type": "code",
      "execution_count": 10,
      "metadata": {
        "colab": {
          "base_uri": "https://localhost:8080/",
          "height": 931
        },
        "id": "sxzq5zFXkxvv",
        "outputId": "c8c55f81-b458-4e45-8c45-16e2f8deb189"
      },
      "outputs": [
        {
          "name": "stdout",
          "output_type": "stream",
          "text": [
            "1/1 [==============================] - 1s 739ms/step\n",
            "1/1 [==============================] - 0s 82ms/step\n",
            "1/1 [==============================] - 0s 47ms/step\n",
            "1/1 [==============================] - 0s 80ms/step\n",
            "1/1 [==============================] - 0s 88ms/step\n",
            "1/1 [==============================] - 0s 108ms/step\n",
            "1/1 [==============================] - 0s 63ms/step\n",
            "1/1 [==============================] - 0s 68ms/step\n",
            "1/1 [==============================] - 0s 119ms/step\n",
            "1/1 [==============================] - 0s 91ms/step\n",
            "1/1 [==============================] - 0s 100ms/step\n",
            "1/1 [==============================] - 0s 98ms/step\n",
            "1/1 [==============================] - 0s 81ms/step\n",
            "1/1 [==============================] - 0s 128ms/step\n",
            "1/1 [==============================] - 0s 46ms/step\n",
            "1/1 [==============================] - 0s 45ms/step\n",
            "1/1 [==============================] - 0s 59ms/step\n",
            "1/1 [==============================] - 0s 106ms/step\n",
            "1/1 [==============================] - 0s 110ms/step\n",
            "1/1 [==============================] - 0s 88ms/step\n"
          ]
        },
        {
          "data": {
            "image/png": "[encoded data removed]",
            "text/plain": [
              "<Figure size 1152x720 with 20 Axes>"
            ]
          },
          "metadata": {},
          "output_type": "display_data"
        }
      ],
      "source": [
        "plt.figure(figsize=(16, 10))\n",
        "for i in range(20):\n",
        " image = random.choice(X_test).squeeze()\n",
        " digit = np.argmax(model.predict(image.reshape((1, 28, 28, 1)))[0], axis=-1)\n",
        " plot_digit(image, digit, plt, i)\n",
        "plt.show()\n"
      ]
    },
    {
      "cell_type": "code",
      "execution_count": 11,
      "metadata": {
        "colab": {
          "base_uri": "https://localhost:8080/"
        },
        "id": "Y8epbmYyk4Qy",
        "outputId": "0bc04d2e-7244-4f42-88a5-3f379a43e916"
      },
      "outputs": [
        {
          "name": "stdout",
          "output_type": "stream",
          "text": [
            "Test loss: 0.03969205915927887\n",
            "Test accuracy: 0.9869999885559082\n"
          ]
        }
      ],
      "source": [
        "score = model.evaluate(X_test, y_test, verbose=0)\n",
        "print('Test loss:', score[0]) #Test loss: 0.0296396646054\n",
        "print('Test accuracy:', score[1]) #Test accuracy: 0.9904\n"
      ]
    }
  ],
  "metadata": {
    "colab": {
      "provenance": []
    },
    "kernelspec": {
      "display_name": "Python 3.8.12 ('base')",
      "language": "python",
      "name": "python3"
    },
    "language_info": {
      "codemirror_mode": {
        "name": "ipython",
        "version": 3
      },
      "file_extension": ".py",
      "mimetype": "text/x-python",
      "name": "python",
      "nbconvert_exporter": "python",
      "pygments_lexer": "ipython3",
      "version": "3.8.12"
    },
    "vscode": {
      "interpreter": {
        "hash": "e9a51e9d69259a6e996f02adf192f810aa46e55afd0beb82993c7530c474989f"
      }
    }
  },
  "nbformat": 4,
  "nbformat_minor": 0
}
