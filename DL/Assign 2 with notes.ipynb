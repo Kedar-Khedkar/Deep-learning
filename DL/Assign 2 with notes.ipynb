{
 "cells": [
  {
   "cell_type": "markdown",
   "id": "9df29e18",
   "metadata": {},
   "source": [
    "## Import Libraries (Dataset, Preprocessing, Modeling, reporting, graph plotting)"
   ]
  },
  {
   "cell_type": "code",
   "execution_count": 36,
   "id": "89ff9fc6",
   "metadata": {},
   "outputs": [],
   "source": [
    "# Dataset\n",
    "from tensorflow.keras.datasets import mnist\n",
    "\n",
    "#preprocessing\n",
    "from sklearn.preprocessing import LabelBinarizer\n",
    "#model construction\n",
    "from tensorflow.keras.models import Sequential\n",
    "from tensorflow.keras.layers import Dense\n",
    "from tensorflow.keras.optimizers import SGD\n",
    "#report/accuracy\n",
    "from sklearn.metrics import classification_report\n",
    "#graph\n",
    "import matplotlib.pyplot as plt\n",
    "import numpy as np\n",
    "\n",
    "import ssl"
   ]
  },
  {
   "cell_type": "markdown",
   "id": "74cf2199",
   "metadata": {},
   "source": [
    "## Import Dataset"
   ]
  },
  {
   "cell_type": "code",
   "execution_count": 37,
   "id": "6921c3a4",
   "metadata": {},
   "outputs": [],
   "source": [
    "(x_train, y_train), (x_test, y_test) = mnist.load_data()"
   ]
  },
  {
   "cell_type": "code",
   "execution_count": 38,
   "id": "83da4b3e",
   "metadata": {},
   "outputs": [],
   "source": [
    "testImage = x_test[0]"
   ]
  },
  {
   "cell_type": "code",
   "execution_count": 39,
   "id": "1d1aa70d",
   "metadata": {},
   "outputs": [
    {
     "data": {
      "text/plain": [
       "<matplotlib.image.AxesImage at 0x25cada94e50>"
      ]
     },
     "execution_count": 39,
     "metadata": {},
     "output_type": "execute_result"
    },
    {
     "data": {
      "image/png": "[encoded data removed]",
      "text/plain": [
       "<Figure size 432x288 with 1 Axes>"
      ]
     },
     "metadata": {},
     "output_type": "display_data"
    }
   ],
   "source": [
    "plt.imshow(testImage)"
   ]
  },
  {
   "cell_type": "markdown",
   "id": "a167311b",
   "metadata": {},
   "source": [
    "## Reshape x train and x test"
   ]
  },
  {
   "cell_type": "code",
   "execution_count": 40,
   "id": "d21d4bbf",
   "metadata": {},
   "outputs": [],
   "source": [
    "x_train = x_train.reshape(x_train.shape[0], 28*28*1)\n",
    "x_test = x_test.reshape(x_test.shape[0], 28*28*1)"
   ]
  },
  {
   "cell_type": "markdown",
   "id": "7b2f1c25",
   "metadata": {},
   "source": [
    "## Normalize x train and x test by dividing by 255 (255 because that is the range of color values)"
   ]
  },
  {
   "cell_type": "code",
   "execution_count": 41,
   "id": "90eac5ea",
   "metadata": {},
   "outputs": [],
   "source": [
    "x_train = x_train.astype(\"float32\")/255.0\n",
    "x_test = x_test.astype(\"float32\")/255.0"
   ]
  },
  {
   "cell_type": "markdown",
   "id": "4fa9a886",
   "metadata": {},
   "source": [
    "## Use label binarizer to encode y train and test these are the labels used for classification"
   ]
  },
  {
   "cell_type": "code",
   "execution_count": 42,
   "id": "7a4c117d",
   "metadata": {},
   "outputs": [],
   "source": [
    "lb = LabelBinarizer()\n",
    "y_train= lb.fit_transform(y_train)\n",
    "y_test = lb.transform(y_test)"
   ]
  },
  {
   "cell_type": "markdown",
   "id": "ee3ad7eb",
   "metadata": {},
   "source": [
    "## Construct Model the type is Sequential followed by 3 dense layers only first contains input shape that is set to 784, note that this is same as: 28*28*1 which we've used to reshape x train and x test\n",
    "### First 2 layers contain sigmoid activation last contains softmax\n",
    "### Output shape of first layer starts with 256 (again this comes from color values 0-255) and is cut to half in the next layer\n",
    "### Output shape of last layer is 10 (this is because we've 10 labels to classify)"
   ]
  },
  {
   "cell_type": "code",
   "execution_count": 43,
   "id": "365267ae",
   "metadata": {},
   "outputs": [],
   "source": [
    "model = Sequential()\n",
    "model.add(Dense(256, input_shape=(784,),activation='sigmoid'))\n",
    "model.add(Dense(128, activation='sigmoid'))\n",
    "model.add(Dense(10, activation='softmax'))"
   ]
  },
  {
   "cell_type": "code",
   "execution_count": 44,
   "id": "6c2037a7",
   "metadata": {},
   "outputs": [
    {
     "name": "stdout",
     "output_type": "stream",
     "text": [
      "Model: \"sequential_2\"\n",
      "_________________________________________________________________\n",
      " Layer (type)                Output Shape              Param #   \n",
      "=================================================================\n",
      " dense_6 (Dense)             (None, 256)               200960    \n",
      "                                                                 \n",
      " dense_7 (Dense)             (None, 128)               32896     \n",
      "                                                                 \n",
      " dense_8 (Dense)             (None, 10)                1290      \n",
      "                                                                 \n",
      "=================================================================\n",
      "Total params: 235,146\n",
      "Trainable params: 235,146\n",
      "Non-trainable params: 0\n",
      "_________________________________________________________________\n"
     ]
    }
   ],
   "source": [
    "model.summary()"
   ]
  },
  {
   "cell_type": "markdown",
   "id": "3f0496af",
   "metadata": {},
   "source": [
    "### Set the optimizer in this case SGD and compile model with loss function set to categorical_crossentropy optimizer SGD (obviously) and metrics accuracy (this is pretty much the same for all practicals)\n",
    "### store history and fit model on training data, provide validation data in a tuple, set epoch to 100 and batch size to 128 (why? no idea!)"
   ]
  },
  {
   "cell_type": "code",
   "execution_count": 45,
   "id": "c275a21a",
   "metadata": {},
   "outputs": [],
   "source": [
    "sgd = SGD(0.01)#Stochastic gradient descent (often abbreviated SGD) is an iterative method for optimizing an objective function with suitable smoothness properties \n",
    "model.compile(loss=\"categorical_crossentropy\", optimizer=\"SGD\", metrics=[\"accuracy\"])"
   ]
  },
  {
   "cell_type": "code",
   "execution_count": 46,
   "id": "55689d19",
   "metadata": {},
   "outputs": [
    {
     "name": "stdout",
     "output_type": "stream",
     "text": [
      "Epoch 1/100\n",
      "469/469 [==============================] - 3s 5ms/step - loss: 2.2808 - accuracy: 0.1747 - val_loss: 2.2406 - val_accuracy: 0.1949\n",
      "Epoch 2/100\n",
      "469/469 [==============================] - 2s 3ms/step - loss: 2.2077 - accuracy: 0.4035 - val_loss: 2.1665 - val_accuracy: 0.5145\n",
      "Epoch 3/100\n",
      "469/469 [==============================] - 2s 3ms/step - loss: 2.1201 - accuracy: 0.5694 - val_loss: 2.0573 - val_accuracy: 0.6545\n",
      "Epoch 4/100\n",
      "469/469 [==============================] - 2s 3ms/step - loss: 1.9903 - accuracy: 0.6356 - val_loss: 1.8977 - val_accuracy: 0.6739\n",
      "Epoch 5/100\n",
      "469/469 [==============================] - 2s 3ms/step - loss: 1.8067 - accuracy: 0.6644 - val_loss: 1.6875 - val_accuracy: 0.6699\n",
      "Epoch 6/100\n",
      "469/469 [==============================] - 2s 3ms/step - loss: 1.5868 - accuracy: 0.6785 - val_loss: 1.4613 - val_accuracy: 0.6941\n",
      "Epoch 7/100\n",
      "469/469 [==============================] - 2s 4ms/step - loss: 1.3734 - accuracy: 0.7033 - val_loss: 1.2622 - val_accuracy: 0.7192\n",
      "Epoch 8/100\n",
      "469/469 [==============================] - 2s 4ms/step - loss: 1.1956 - accuracy: 0.7275 - val_loss: 1.1054 - val_accuracy: 0.7510\n",
      "Epoch 9/100\n",
      "469/469 [==============================] - 2s 4ms/step - loss: 1.0563 - accuracy: 0.7527 - val_loss: 0.9819 - val_accuracy: 0.7716\n",
      "Epoch 10/100\n",
      "469/469 [==============================] - 1s 3ms/step - loss: 0.9478 - accuracy: 0.7730 - val_loss: 0.8872 - val_accuracy: 0.7875\n",
      "Epoch 11/100\n",
      "469/469 [==============================] - 2s 4ms/step - loss: 0.8622 - accuracy: 0.7901 - val_loss: 0.8105 - val_accuracy: 0.8019\n",
      "Epoch 12/100\n",
      "469/469 [==============================] - 2s 3ms/step - loss: 0.7932 - accuracy: 0.8054 - val_loss: 0.7487 - val_accuracy: 0.8141\n",
      "Epoch 13/100\n",
      "469/469 [==============================] - 2s 3ms/step - loss: 0.7366 - accuracy: 0.8174 - val_loss: 0.6976 - val_accuracy: 0.8263\n",
      "Epoch 14/100\n",
      "469/469 [==============================] - 2s 4ms/step - loss: 0.6893 - accuracy: 0.8283 - val_loss: 0.6536 - val_accuracy: 0.8363\n",
      "Epoch 15/100\n",
      "469/469 [==============================] - 2s 3ms/step - loss: 0.6493 - accuracy: 0.8361 - val_loss: 0.6173 - val_accuracy: 0.8443\n",
      "Epoch 16/100\n",
      "469/469 [==============================] - 2s 3ms/step - loss: 0.6153 - accuracy: 0.8436 - val_loss: 0.5854 - val_accuracy: 0.8503\n",
      "Epoch 17/100\n",
      "469/469 [==============================] - 2s 4ms/step - loss: 0.5859 - accuracy: 0.8503 - val_loss: 0.5583 - val_accuracy: 0.8561\n",
      "Epoch 18/100\n",
      "469/469 [==============================] - 2s 4ms/step - loss: 0.5604 - accuracy: 0.8562 - val_loss: 0.5344 - val_accuracy: 0.8621\n",
      "Epoch 19/100\n",
      "469/469 [==============================] - 1s 3ms/step - loss: 0.5381 - accuracy: 0.8613 - val_loss: 0.5136 - val_accuracy: 0.8653\n",
      "Epoch 20/100\n",
      "469/469 [==============================] - 2s 4ms/step - loss: 0.5186 - accuracy: 0.8649 - val_loss: 0.4949 - val_accuracy: 0.8701\n",
      "Epoch 21/100\n",
      "469/469 [==============================] - 2s 3ms/step - loss: 0.5011 - accuracy: 0.8686 - val_loss: 0.4785 - val_accuracy: 0.8736\n",
      "Epoch 22/100\n",
      "469/469 [==============================] - 2s 3ms/step - loss: 0.4857 - accuracy: 0.8722 - val_loss: 0.4643 - val_accuracy: 0.8755\n",
      "Epoch 23/100\n",
      "469/469 [==============================] - 2s 3ms/step - loss: 0.4718 - accuracy: 0.8749 - val_loss: 0.4511 - val_accuracy: 0.8794\n",
      "Epoch 24/100\n",
      "469/469 [==============================] - 2s 4ms/step - loss: 0.4594 - accuracy: 0.8772 - val_loss: 0.4397 - val_accuracy: 0.8824\n",
      "Epoch 25/100\n",
      "469/469 [==============================] - 2s 3ms/step - loss: 0.4482 - accuracy: 0.8801 - val_loss: 0.4290 - val_accuracy: 0.8843\n",
      "Epoch 26/100\n",
      "469/469 [==============================] - 2s 3ms/step - loss: 0.4381 - accuracy: 0.8824 - val_loss: 0.4195 - val_accuracy: 0.8851\n",
      "Epoch 27/100\n",
      "469/469 [==============================] - 1s 3ms/step - loss: 0.4290 - accuracy: 0.8845 - val_loss: 0.4108 - val_accuracy: 0.8872\n",
      "Epoch 28/100\n",
      "469/469 [==============================] - 1s 3ms/step - loss: 0.4206 - accuracy: 0.8856 - val_loss: 0.4027 - val_accuracy: 0.8892\n",
      "Epoch 29/100\n",
      "469/469 [==============================] - 2s 3ms/step - loss: 0.4130 - accuracy: 0.8876 - val_loss: 0.3957 - val_accuracy: 0.8910\n",
      "Epoch 30/100\n",
      "469/469 [==============================] - 2s 3ms/step - loss: 0.4061 - accuracy: 0.8887 - val_loss: 0.3888 - val_accuracy: 0.8910\n",
      "Epoch 31/100\n",
      "469/469 [==============================] - 2s 5ms/step - loss: 0.3996 - accuracy: 0.8905 - val_loss: 0.3836 - val_accuracy: 0.8933\n",
      "Epoch 32/100\n",
      "469/469 [==============================] - 2s 4ms/step - loss: 0.3937 - accuracy: 0.8920 - val_loss: 0.3771 - val_accuracy: 0.8946\n",
      "Epoch 33/100\n",
      "469/469 [==============================] - 2s 3ms/step - loss: 0.3883 - accuracy: 0.8925 - val_loss: 0.3726 - val_accuracy: 0.8951\n",
      "Epoch 34/100\n",
      "469/469 [==============================] - 1s 3ms/step - loss: 0.3831 - accuracy: 0.8942 - val_loss: 0.3675 - val_accuracy: 0.8963\n",
      "Epoch 35/100\n",
      "469/469 [==============================] - 2s 3ms/step - loss: 0.3783 - accuracy: 0.8944 - val_loss: 0.3629 - val_accuracy: 0.8978\n",
      "Epoch 36/100\n",
      "469/469 [==============================] - 2s 3ms/step - loss: 0.3739 - accuracy: 0.8956 - val_loss: 0.3588 - val_accuracy: 0.8979\n",
      "Epoch 37/100\n",
      "469/469 [==============================] - 2s 3ms/step - loss: 0.3697 - accuracy: 0.8968 - val_loss: 0.3550 - val_accuracy: 0.8994\n",
      "Epoch 38/100\n",
      "469/469 [==============================] - 2s 4ms/step - loss: 0.3658 - accuracy: 0.8974 - val_loss: 0.3510 - val_accuracy: 0.9004\n",
      "Epoch 39/100\n",
      "469/469 [==============================] - 2s 3ms/step - loss: 0.3621 - accuracy: 0.8984 - val_loss: 0.3475 - val_accuracy: 0.9004\n",
      "Epoch 40/100\n",
      "469/469 [==============================] - 2s 4ms/step - loss: 0.3586 - accuracy: 0.8992 - val_loss: 0.3442 - val_accuracy: 0.9023\n",
      "Epoch 41/100\n",
      "469/469 [==============================] - 2s 4ms/step - loss: 0.3552 - accuracy: 0.8998 - val_loss: 0.3415 - val_accuracy: 0.9024\n",
      "Epoch 42/100\n",
      "469/469 [==============================] - 2s 4ms/step - loss: 0.3520 - accuracy: 0.9006 - val_loss: 0.3380 - val_accuracy: 0.9030\n",
      "Epoch 43/100\n",
      "469/469 [==============================] - 2s 4ms/step - loss: 0.3490 - accuracy: 0.9016 - val_loss: 0.3357 - val_accuracy: 0.9043\n",
      "Epoch 44/100\n",
      "469/469 [==============================] - 2s 5ms/step - loss: 0.3461 - accuracy: 0.9022 - val_loss: 0.3327 - val_accuracy: 0.9036\n",
      "Epoch 45/100\n",
      "469/469 [==============================] - 2s 5ms/step - loss: 0.3434 - accuracy: 0.9025 - val_loss: 0.3298 - val_accuracy: 0.9045\n",
      "Epoch 46/100\n",
      "469/469 [==============================] - 2s 4ms/step - loss: 0.3408 - accuracy: 0.9033 - val_loss: 0.3277 - val_accuracy: 0.9056\n",
      "Epoch 47/100\n",
      "469/469 [==============================] - 2s 4ms/step - loss: 0.3382 - accuracy: 0.9035 - val_loss: 0.3252 - val_accuracy: 0.9058\n",
      "Epoch 48/100\n",
      "469/469 [==============================] - 2s 5ms/step - loss: 0.3358 - accuracy: 0.9044 - val_loss: 0.3227 - val_accuracy: 0.9057\n",
      "Epoch 49/100\n",
      "469/469 [==============================] - 2s 4ms/step - loss: 0.3334 - accuracy: 0.9053 - val_loss: 0.3207 - val_accuracy: 0.9070\n",
      "Epoch 50/100\n",
      "469/469 [==============================] - 2s 3ms/step - loss: 0.3312 - accuracy: 0.9056 - val_loss: 0.3186 - val_accuracy: 0.9087\n",
      "Epoch 51/100\n",
      "469/469 [==============================] - 1s 3ms/step - loss: 0.3291 - accuracy: 0.9059 - val_loss: 0.3168 - val_accuracy: 0.9093\n",
      "Epoch 52/100\n",
      "469/469 [==============================] - 2s 3ms/step - loss: 0.3269 - accuracy: 0.9069 - val_loss: 0.3148 - val_accuracy: 0.9091\n",
      "Epoch 53/100\n",
      "469/469 [==============================] - 1s 3ms/step - loss: 0.3249 - accuracy: 0.9070 - val_loss: 0.3128 - val_accuracy: 0.9097\n",
      "Epoch 54/100\n",
      "469/469 [==============================] - 1s 3ms/step - loss: 0.3229 - accuracy: 0.9076 - val_loss: 0.3113 - val_accuracy: 0.9096\n",
      "Epoch 55/100\n",
      "469/469 [==============================] - 2s 3ms/step - loss: 0.3210 - accuracy: 0.9082 - val_loss: 0.3094 - val_accuracy: 0.9120\n",
      "Epoch 56/100\n",
      "469/469 [==============================] - 1s 3ms/step - loss: 0.3191 - accuracy: 0.9082 - val_loss: 0.3075 - val_accuracy: 0.9116\n",
      "Epoch 57/100\n",
      "469/469 [==============================] - 2s 3ms/step - loss: 0.3174 - accuracy: 0.9085 - val_loss: 0.3062 - val_accuracy: 0.9119\n",
      "Epoch 58/100\n",
      "469/469 [==============================] - 2s 3ms/step - loss: 0.3156 - accuracy: 0.9089 - val_loss: 0.3041 - val_accuracy: 0.9129\n",
      "Epoch 59/100\n",
      "469/469 [==============================] - 2s 4ms/step - loss: 0.3139 - accuracy: 0.9096 - val_loss: 0.3026 - val_accuracy: 0.9137\n",
      "Epoch 60/100\n",
      "469/469 [==============================] - 1s 3ms/step - loss: 0.3123 - accuracy: 0.9101 - val_loss: 0.3011 - val_accuracy: 0.9155\n",
      "Epoch 61/100\n",
      "469/469 [==============================] - 1s 3ms/step - loss: 0.3106 - accuracy: 0.9103 - val_loss: 0.2995 - val_accuracy: 0.9142\n",
      "Epoch 62/100\n",
      "469/469 [==============================] - 2s 4ms/step - loss: 0.3091 - accuracy: 0.9109 - val_loss: 0.2983 - val_accuracy: 0.9156\n",
      "Epoch 63/100\n",
      "469/469 [==============================] - 2s 4ms/step - loss: 0.3075 - accuracy: 0.9115 - val_loss: 0.2971 - val_accuracy: 0.9152\n",
      "Epoch 64/100\n",
      "469/469 [==============================] - 2s 4ms/step - loss: 0.3060 - accuracy: 0.9117 - val_loss: 0.2960 - val_accuracy: 0.9156\n",
      "Epoch 65/100\n",
      "469/469 [==============================] - 2s 4ms/step - loss: 0.3045 - accuracy: 0.9122 - val_loss: 0.2941 - val_accuracy: 0.9158\n",
      "Epoch 66/100\n",
      "469/469 [==============================] - 2s 4ms/step - loss: 0.3030 - accuracy: 0.9126 - val_loss: 0.2931 - val_accuracy: 0.9163\n",
      "Epoch 67/100\n",
      "469/469 [==============================] - 3s 6ms/step - loss: 0.3017 - accuracy: 0.9128 - val_loss: 0.2914 - val_accuracy: 0.9175\n",
      "Epoch 68/100\n",
      "469/469 [==============================] - 2s 4ms/step - loss: 0.3003 - accuracy: 0.9133 - val_loss: 0.2903 - val_accuracy: 0.9171\n",
      "Epoch 69/100\n",
      "469/469 [==============================] - 2s 3ms/step - loss: 0.2990 - accuracy: 0.9136 - val_loss: 0.2888 - val_accuracy: 0.9177\n",
      "Epoch 70/100\n",
      "469/469 [==============================] - 2s 4ms/step - loss: 0.2976 - accuracy: 0.9137 - val_loss: 0.2880 - val_accuracy: 0.9177\n",
      "Epoch 71/100\n",
      "469/469 [==============================] - 2s 4ms/step - loss: 0.2962 - accuracy: 0.9140 - val_loss: 0.2871 - val_accuracy: 0.9176\n",
      "Epoch 72/100\n",
      "469/469 [==============================] - 2s 4ms/step - loss: 0.2951 - accuracy: 0.9143 - val_loss: 0.2860 - val_accuracy: 0.9178\n",
      "Epoch 73/100\n",
      "469/469 [==============================] - 2s 4ms/step - loss: 0.2938 - accuracy: 0.9150 - val_loss: 0.2845 - val_accuracy: 0.9186\n",
      "Epoch 74/100\n",
      "469/469 [==============================] - 2s 4ms/step - loss: 0.2925 - accuracy: 0.9157 - val_loss: 0.2832 - val_accuracy: 0.9187\n",
      "Epoch 75/100\n",
      "469/469 [==============================] - 2s 4ms/step - loss: 0.2913 - accuracy: 0.9157 - val_loss: 0.2821 - val_accuracy: 0.9199\n",
      "Epoch 76/100\n",
      "469/469 [==============================] - 2s 4ms/step - loss: 0.2902 - accuracy: 0.9160 - val_loss: 0.2812 - val_accuracy: 0.9194\n",
      "Epoch 77/100\n",
      "469/469 [==============================] - 2s 5ms/step - loss: 0.2890 - accuracy: 0.9164 - val_loss: 0.2799 - val_accuracy: 0.9196\n",
      "Epoch 78/100\n",
      "469/469 [==============================] - 2s 4ms/step - loss: 0.2878 - accuracy: 0.9164 - val_loss: 0.2792 - val_accuracy: 0.9203\n",
      "Epoch 79/100\n",
      "469/469 [==============================] - 2s 4ms/step - loss: 0.2867 - accuracy: 0.9168 - val_loss: 0.2778 - val_accuracy: 0.9198\n",
      "Epoch 80/100\n",
      "469/469 [==============================] - 2s 4ms/step - loss: 0.2856 - accuracy: 0.9171 - val_loss: 0.2770 - val_accuracy: 0.9201\n",
      "Epoch 81/100\n",
      "469/469 [==============================] - 2s 3ms/step - loss: 0.2844 - accuracy: 0.9178 - val_loss: 0.2770 - val_accuracy: 0.9195\n",
      "Epoch 82/100\n",
      "469/469 [==============================] - 2s 4ms/step - loss: 0.2834 - accuracy: 0.9182 - val_loss: 0.2751 - val_accuracy: 0.9204\n",
      "Epoch 83/100\n",
      "469/469 [==============================] - 2s 4ms/step - loss: 0.2824 - accuracy: 0.9183 - val_loss: 0.2743 - val_accuracy: 0.9213\n",
      "Epoch 84/100\n",
      "469/469 [==============================] - 2s 5ms/step - loss: 0.2813 - accuracy: 0.9183 - val_loss: 0.2734 - val_accuracy: 0.9215\n",
      "Epoch 85/100\n",
      "469/469 [==============================] - 2s 4ms/step - loss: 0.2802 - accuracy: 0.9187 - val_loss: 0.2729 - val_accuracy: 0.9221\n",
      "Epoch 86/100\n",
      "469/469 [==============================] - 1s 3ms/step - loss: 0.2792 - accuracy: 0.9191 - val_loss: 0.2715 - val_accuracy: 0.9227\n",
      "Epoch 87/100\n",
      "469/469 [==============================] - 2s 3ms/step - loss: 0.2782 - accuracy: 0.9194 - val_loss: 0.2709 - val_accuracy: 0.9220\n",
      "Epoch 88/100\n",
      "469/469 [==============================] - 2s 3ms/step - loss: 0.2772 - accuracy: 0.9197 - val_loss: 0.2698 - val_accuracy: 0.9223\n",
      "Epoch 89/100\n",
      "469/469 [==============================] - 2s 4ms/step - loss: 0.2762 - accuracy: 0.9198 - val_loss: 0.2689 - val_accuracy: 0.9214\n",
      "Epoch 90/100\n",
      "469/469 [==============================] - 2s 4ms/step - loss: 0.2753 - accuracy: 0.9201 - val_loss: 0.2681 - val_accuracy: 0.9226\n",
      "Epoch 91/100\n",
      "469/469 [==============================] - 2s 3ms/step - loss: 0.2742 - accuracy: 0.9205 - val_loss: 0.2668 - val_accuracy: 0.9229\n",
      "Epoch 92/100\n",
      "469/469 [==============================] - 2s 4ms/step - loss: 0.2733 - accuracy: 0.9207 - val_loss: 0.2662 - val_accuracy: 0.9231\n",
      "Epoch 93/100\n",
      "469/469 [==============================] - 2s 4ms/step - loss: 0.2723 - accuracy: 0.9212 - val_loss: 0.2655 - val_accuracy: 0.9235\n",
      "Epoch 94/100\n",
      "469/469 [==============================] - 2s 5ms/step - loss: 0.2714 - accuracy: 0.9213 - val_loss: 0.2647 - val_accuracy: 0.9230\n",
      "Epoch 95/100\n",
      "469/469 [==============================] - 2s 4ms/step - loss: 0.2704 - accuracy: 0.9213 - val_loss: 0.2641 - val_accuracy: 0.9234\n",
      "Epoch 96/100\n",
      "469/469 [==============================] - 2s 4ms/step - loss: 0.2696 - accuracy: 0.9220 - val_loss: 0.2630 - val_accuracy: 0.9241\n",
      "Epoch 97/100\n",
      "469/469 [==============================] - 2s 4ms/step - loss: 0.2687 - accuracy: 0.9218 - val_loss: 0.2622 - val_accuracy: 0.9239\n",
      "Epoch 98/100\n",
      "469/469 [==============================] - 2s 4ms/step - loss: 0.2677 - accuracy: 0.9219 - val_loss: 0.2614 - val_accuracy: 0.9259\n",
      "Epoch 99/100\n",
      "469/469 [==============================] - 2s 4ms/step - loss: 0.2668 - accuracy: 0.9226 - val_loss: 0.2606 - val_accuracy: 0.9246\n",
      "Epoch 100/100\n",
      "469/469 [==============================] - 2s 4ms/step - loss: 0.2660 - accuracy: 0.9227 - val_loss: 0.2603 - val_accuracy: 0.9255\n"
     ]
    }
   ],
   "source": [
    "history = model.fit(x_train, y_train, validation_data=(x_test, y_test), epochs=100, batch_size=128)"
   ]
  },
  {
   "cell_type": "code",
   "execution_count": 47,
   "id": "73a0a2bc",
   "metadata": {},
   "outputs": [
    {
     "name": "stdout",
     "output_type": "stream",
     "text": [
      "313/313 [==============================] - 1s 2ms/step\n",
      "7\n"
     ]
    }
   ],
   "source": [
    "testPredict = model.predict(x_test)\n",
    "maxi = max(testPredict[0])\n",
    "for i in range(10):\n",
    "    if testPredict[0][i] == maxi:\n",
    "        print(i)\n",
    "        break"
   ]
  },
  {
   "cell_type": "markdown",
   "id": "bc5e4079",
   "metadata": {},
   "source": [
    "## Plot the results the code is self explainatory"
   ]
  },
  {
   "cell_type": "code",
   "execution_count": 48,
   "id": "7de5881d",
   "metadata": {},
   "outputs": [
    {
     "data": {
      "text/plain": [
       "<matplotlib.legend.Legend at 0x25cab0ba580>"
      ]
     },
     "execution_count": 48,
     "metadata": {},
     "output_type": "execute_result"
    },
    {
     "data": {
      "image/png": "[encoded data removed]",
      "text/plain": [
       "<Figure size 432x288 with 1 Axes>"
      ]
     },
     "metadata": {},
     "output_type": "display_data"
    }
   ],
   "source": [
    "plt.style.use('ggplot')\n",
    "plt.figure()\n",
    "plt.plot(np.arange(0,100), history.history['loss'], label=\"train_loss\")\n",
    "plt.plot(np.arange(0,100), history.history['val_loss'], label=\"val_loss\")\n",
    "plt.plot(np.arange(0,100), history.history['accuracy'], label=\"train_accuracy\")\n",
    "plt.plot(np.arange(0,100), history.history['val_accuracy'], label=\"val_accuracy\")\n",
    "plt.title(\"Training Loss and Accuracy\")\n",
    "plt.xlabel(\"Epochs\")\n",
    "plt.ylabel(\"Loss/Accuracy\")\n",
    "plt.legend()"
   ]
  }
 ],
 "metadata": {
  "kernelspec": {
   "display_name": "Python 3.8.12 ('base')",
   "language": "python",
   "name": "python3"
  },
  "language_info": {
   "codemirror_mode": {
    "name": "ipython",
    "version": 3
   },
   "file_extension": ".py",
   "mimetype": "text/x-python",
   "name": "python",
   "nbconvert_exporter": "python",
   "pygments_lexer": "ipython3",
   "version": "3.8.12"
  },
  "vscode": {
   "interpreter": {
    "hash": "e9a51e9d69259a6e996f02adf192f810aa46e55afd0beb82993c7530c474989f"
   }
  }
 },
 "nbformat": 4,
 "nbformat_minor": 5
}
