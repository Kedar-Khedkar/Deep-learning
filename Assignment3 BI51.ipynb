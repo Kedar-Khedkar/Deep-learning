{
  "cells": [
    {
      "cell_type": "code",
      "execution_count": 1,
      "metadata": {
        "id": "f087fcd8"
      },
      "outputs": [],
      "source": [
        "import numpy as np"
      ],
      "id": "f087fcd8"
    },
    {
      "cell_type": "code",
      "execution_count": 2,
      "metadata": {
        "id": "a5148273"
      },
      "outputs": [],
      "source": [
        "import pandas as pd\n",
        "import tensorflow as tf"
      ],
      "id": "a5148273"
    },
    {
      "cell_type": "code",
      "execution_count": 3,
      "metadata": {
        "id": "3d23265d"
      },
      "outputs": [],
      "source": [
        "from tensorflow.keras.datasets import cifar10"
      ],
      "id": "3d23265d"
    },
    {
      "cell_type": "code",
      "execution_count": 4,
      "metadata": {
        "id": "9ef6d817"
      },
      "outputs": [],
      "source": [
        "class_names = ['airplane', 'automobile', 'bird', 'cat', 'deer', 'dog', 'frog', 'horse', 'ship', 'truck']"
      ],
      "id": "9ef6d817"
    },
    {
      "cell_type": "code",
      "execution_count": 5,
      "metadata": {
        "colab": {
          "base_uri": "https://localhost:8080/"
        },
        "id": "4d3d7d57",
        "outputId": "1bfb3c07-0699-4052-f8a0-c7225aed4a85"
      },
      "outputs": [
        {
          "output_type": "stream",
          "name": "stdout",
          "text": [
            "Downloading data from https://www.cs.toronto.edu/~kriz/cifar-10-python.tar.gz\n",
            "170498071/170498071 [==============================] - 4s 0us/step\n"
          ]
        }
      ],
      "source": [
        "(x_train, y_train), (x_test, y_test) = cifar10.load_data()"
      ],
      "id": "4d3d7d57"
    },
    {
      "cell_type": "code",
      "execution_count": 6,
      "metadata": {
        "id": "8b335830"
      },
      "outputs": [],
      "source": [
        "model = tf.keras.models.Sequential()"
      ],
      "id": "8b335830"
    },
    {
      "cell_type": "code",
      "execution_count": 7,
      "metadata": {
        "id": "37e73f63"
      },
      "outputs": [],
      "source": [
        "model.add(tf.keras.layers.Conv2D(filters=32, kernel_size=3, padding='same', activation='relu',  input_shape=[32,32,3]))"
      ],
      "id": "37e73f63"
    },
    {
      "cell_type": "code",
      "execution_count": 8,
      "metadata": {
        "id": "9263562c"
      },
      "outputs": [],
      "source": [
        "model.add(tf.keras.layers.Conv2D(filters=32, kernel_size=3, padding='same', activation='relu'))"
      ],
      "id": "9263562c"
    },
    {
      "cell_type": "code",
      "execution_count": 9,
      "metadata": {
        "id": "b31242e2"
      },
      "outputs": [],
      "source": [
        "model.add(tf.keras.layers.MaxPool2D(pool_size=2, strides=2, padding='valid'))"
      ],
      "id": "b31242e2"
    },
    {
      "cell_type": "code",
      "execution_count": 10,
      "metadata": {
        "id": "4ba1f63e"
      },
      "outputs": [],
      "source": [
        "model.add(tf.keras.layers.Conv2D(filters=64, kernel_size=3, padding='same', activation='relu'))"
      ],
      "id": "4ba1f63e"
    },
    {
      "cell_type": "code",
      "execution_count": 11,
      "metadata": {
        "id": "b70f9d4e"
      },
      "outputs": [],
      "source": [
        "model.add(tf.keras.layers.Conv2D(filters=64, kernel_size=3, padding='same', activation='relu'))"
      ],
      "id": "b70f9d4e"
    },
    {
      "cell_type": "code",
      "execution_count": 12,
      "metadata": {
        "id": "7c7b9b1e"
      },
      "outputs": [],
      "source": [
        "model.add(tf.keras.layers.MaxPool2D(pool_size=2, strides=2, padding='valid'))"
      ],
      "id": "7c7b9b1e"
    },
    {
      "cell_type": "code",
      "execution_count": 13,
      "metadata": {
        "id": "9b299195"
      },
      "outputs": [],
      "source": [
        "model.add(tf.keras.layers.Flatten())"
      ],
      "id": "9b299195"
    },
    {
      "cell_type": "code",
      "execution_count": 14,
      "metadata": {
        "id": "e564523f"
      },
      "outputs": [],
      "source": [
        "model.add(tf.keras.layers.Dropout(rate=0.5))"
      ],
      "id": "e564523f"
    },
    {
      "cell_type": "code",
      "execution_count": 15,
      "metadata": {
        "id": "3b3803f4"
      },
      "outputs": [],
      "source": [
        "model.add(tf.keras.layers.Dense(units=128, activation=\"relu\"))\n",
        "model.add(tf.keras.layers.Dense(units = 10, activation='softmax'))"
      ],
      "id": "3b3803f4"
    },
    {
      "cell_type": "code",
      "execution_count": 16,
      "metadata": {
        "colab": {
          "base_uri": "https://localhost:8080/"
        },
        "id": "ry31-SIbD73b",
        "outputId": "b145392c-159a-4286-ea19-21bd98086174"
      },
      "outputs": [
        {
          "output_type": "stream",
          "name": "stdout",
          "text": [
            "Model: \"sequential\"\n",
            "_________________________________________________________________\n",
            " Layer (type)                Output Shape              Param #   \n",
            "=================================================================\n",
            " conv2d (Conv2D)             (None, 32, 32, 32)        896       \n",
            "                                                                 \n",
            " conv2d_1 (Conv2D)           (None, 32, 32, 32)        9248      \n",
            "                                                                 \n",
            " max_pooling2d (MaxPooling2D  (None, 16, 16, 32)       0         \n",
            " )                                                               \n",
            "                                                                 \n",
            " conv2d_2 (Conv2D)           (None, 16, 16, 64)        18496     \n",
            "                                                                 \n",
            " conv2d_3 (Conv2D)           (None, 16, 16, 64)        36928     \n",
            "                                                                 \n",
            " max_pooling2d_1 (MaxPooling  (None, 8, 8, 64)         0         \n",
            " 2D)                                                             \n",
            "                                                                 \n",
            " flatten (Flatten)           (None, 4096)              0         \n",
            "                                                                 \n",
            " dropout (Dropout)           (None, 4096)              0         \n",
            "                                                                 \n",
            " dense (Dense)               (None, 128)               524416    \n",
            "                                                                 \n",
            " dense_1 (Dense)             (None, 10)                1290      \n",
            "                                                                 \n",
            "=================================================================\n",
            "Total params: 591,274\n",
            "Trainable params: 591,274\n",
            "Non-trainable params: 0\n",
            "_________________________________________________________________\n"
          ]
        }
      ],
      "source": [
        "model.summary()"
      ],
      "id": "ry31-SIbD73b"
    },
    {
      "cell_type": "code",
      "execution_count": 17,
      "metadata": {
        "id": "c098b64f"
      },
      "outputs": [],
      "source": [
        "model.compile(loss='sparse_categorical_crossentropy', optimizer='Adam', metrics=['sparse_categorical_accuracy'])"
      ],
      "id": "c098b64f"
    },
    {
      "cell_type": "code",
      "execution_count": null,
      "metadata": {
        "colab": {
          "background_save": true,
          "base_uri": "https://localhost:8080/"
        },
        "id": "52b0eaf0",
        "outputId": "0b3818d6-241e-4f18-eb71-51cc5c5c00ad"
      },
      "outputs": [
        {
          "output_type": "stream",
          "name": "stdout",
          "text": [
            "Epoch 1/5\n",
            " 913/1563 [================>.............] - ETA: 1:48 - loss: 1.9272 - sparse_categorical_accuracy: 0.3433"
          ]
        }
      ],
      "source": [
        "model.fit(x_train, y_train, epochs=5)"
      ],
      "id": "52b0eaf0"
    }
  ],
  "metadata": {
    "colab": {
      "provenance": []
    },
    "kernelspec": {
      "display_name": "Python 3 (ipykernel)",
      "language": "python",
      "name": "python3"
    },
    "language_info": {
      "codemirror_mode": {
        "name": "ipython",
        "version": 3
      },
      "file_extension": ".py",
      "mimetype": "text/x-python",
      "name": "python",
      "nbconvert_exporter": "python",
      "pygments_lexer": "ipython3",
      "version": "3.9.12"
    }
  },
  "nbformat": 4,
  "nbformat_minor": 5
}