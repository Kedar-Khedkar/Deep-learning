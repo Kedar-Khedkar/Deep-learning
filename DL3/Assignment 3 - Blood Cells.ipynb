{
 "cells": [
  {
   "cell_type": "code",
   "execution_count": 1,
   "id": "0f0c0f31",
   "metadata": {
    "execution": {
     "iopub.execute_input": "2022-11-09T04:16:40.530086Z",
     "iopub.status.busy": "2022-11-09T04:16:40.529053Z",
     "iopub.status.idle": "2022-11-09T04:16:46.305380Z",
     "shell.execute_reply": "2022-11-09T04:16:46.304385Z"
    },
    "papermill": {
     "duration": 5.786414,
     "end_time": "2022-11-09T04:16:46.307793",
     "exception": false,
     "start_time": "2022-11-09T04:16:40.521379",
     "status": "completed"
    },
    "tags": []
   },
   "outputs": [],
   "source": [
    "import tensorflow as tf\n",
    "from tensorflow import keras\n",
    "from tensorflow.keras import layers\n",
    "\n",
    "from keras.models import Sequential,Model\n",
    "from keras.layers import Activation\n",
    "from keras.layers.core import Dense,Flatten,Dropout\n",
    "from keras.metrics import categorical_crossentropy\n",
    "from keras.preprocessing import image\n",
    "from keras.preprocessing.image import ImageDataGenerator\n",
    "from tensorflow.keras.layers import BatchNormalization\n",
    "from keras.layers.convolutional import *\n",
    "from sklearn.metrics import confusion_matrix\n",
    "from tensorflow.keras.optimizers import Adam, RMSprop , SGD\n",
    "import keras \n",
    "import keras.backend as B\n",
    "import numpy as np\n",
    "import keras.applications as A\n",
    "import matplotlib.pyplot as plt\n",
    "%matplotlib inline\n",
    "\n",
    "import os\n",
    "from keras import regularizers"
   ]
  },
  {
   "cell_type": "code",
   "execution_count": 2,
   "id": "4f5cab35",
   "metadata": {
    "execution": {
     "iopub.execute_input": "2022-11-09T04:16:46.316979Z",
     "iopub.status.busy": "2022-11-09T04:16:46.316465Z",
     "iopub.status.idle": "2022-11-09T04:16:46.321564Z",
     "shell.execute_reply": "2022-11-09T04:16:46.320726Z"
    },
    "papermill": {
     "duration": 0.012014,
     "end_time": "2022-11-09T04:16:46.323543",
     "exception": false,
     "start_time": "2022-11-09T04:16:46.311529",
     "status": "completed"
    },
    "tags": []
   },
   "outputs": [],
   "source": [
    "train_path = \"../input/blood-cells/dataset2-master/dataset2-master/images/TRAIN\"\n",
    "test_path = \"../input/blood-cells/dataset2-master/dataset2-master/images/TRAIN\""
   ]
  },
  {
   "cell_type": "code",
   "execution_count": 3,
   "id": "189a05f7",
   "metadata": {
    "execution": {
     "iopub.execute_input": "2022-11-09T04:16:46.330900Z",
     "iopub.status.busy": "2022-11-09T04:16:46.330642Z",
     "iopub.status.idle": "2022-11-09T04:16:46.335874Z",
     "shell.execute_reply": "2022-11-09T04:16:46.335024Z"
    },
    "papermill": {
     "duration": 0.011222,
     "end_time": "2022-11-09T04:16:46.337870",
     "exception": false,
     "start_time": "2022-11-09T04:16:46.326648",
     "status": "completed"
    },
    "tags": []
   },
   "outputs": [],
   "source": [
    "inputs = (240,320,3)"
   ]
  },
  {
   "cell_type": "code",
   "execution_count": 4,
   "id": "edde4074",
   "metadata": {
    "execution": {
     "iopub.execute_input": "2022-11-09T04:16:46.345007Z",
     "iopub.status.busy": "2022-11-09T04:16:46.344748Z",
     "iopub.status.idle": "2022-11-09T04:16:51.541318Z",
     "shell.execute_reply": "2022-11-09T04:16:51.540341Z"
    },
    "papermill": {
     "duration": 5.203044,
     "end_time": "2022-11-09T04:16:51.543997",
     "exception": false,
     "start_time": "2022-11-09T04:16:46.340953",
     "status": "completed"
    },
    "tags": []
   },
   "outputs": [
    {
     "name": "stdout",
     "output_type": "stream",
     "text": [
      "Found 9957 images belonging to 4 classes.\n",
      "Found 9957 images belonging to 4 classes.\n"
     ]
    }
   ],
   "source": [
    "train_batches = ImageDataGenerator().flow_from_directory(train_path, target_size=(224,224),classes=['EOSINOPHIL', 'LYMPHOCYTE', 'MONOCYTE', 'NEUTROPHIL'],batch_size=50)\n",
    "test_batches = ImageDataGenerator().flow_from_directory(test_path, target_size=(224,224),classes=['EOSINOPHIL', 'LYMPHOCYTE', 'MONOCYTE', 'NEUTROPHIL'],batch_size=50)"
   ]
  },
  {
   "cell_type": "code",
   "execution_count": 5,
   "id": "38577469",
   "metadata": {
    "execution": {
     "iopub.execute_input": "2022-11-09T04:16:51.553114Z",
     "iopub.status.busy": "2022-11-09T04:16:51.552424Z",
     "iopub.status.idle": "2022-11-09T04:16:55.258442Z",
     "shell.execute_reply": "2022-11-09T04:16:55.257470Z"
    },
    "papermill": {
     "duration": 3.712641,
     "end_time": "2022-11-09T04:16:55.260776",
     "exception": false,
     "start_time": "2022-11-09T04:16:51.548135",
     "status": "completed"
    },
    "tags": []
   },
   "outputs": [
    {
     "name": "stderr",
     "output_type": "stream",
     "text": [
      "2022-11-09 04:16:51.654137: I tensorflow/stream_executor/cuda/cuda_gpu_executor.cc:937] successful NUMA node read from SysFS had negative value (-1), but there must be at least one NUMA node, so returning NUMA node zero\n",
      "2022-11-09 04:16:51.746826: I tensorflow/stream_executor/cuda/cuda_gpu_executor.cc:937] successful NUMA node read from SysFS had negative value (-1), but there must be at least one NUMA node, so returning NUMA node zero\n",
      "2022-11-09 04:16:51.747607: I tensorflow/stream_executor/cuda/cuda_gpu_executor.cc:937] successful NUMA node read from SysFS had negative value (-1), but there must be at least one NUMA node, so returning NUMA node zero\n",
      "2022-11-09 04:16:51.749405: I tensorflow/core/platform/cpu_feature_guard.cc:142] This TensorFlow binary is optimized with oneAPI Deep Neural Network Library (oneDNN) to use the following CPU instructions in performance-critical operations:  AVX2 AVX512F FMA\n",
      "To enable them in other operations, rebuild TensorFlow with the appropriate compiler flags.\n",
      "2022-11-09 04:16:51.749685: I tensorflow/stream_executor/cuda/cuda_gpu_executor.cc:937] successful NUMA node read from SysFS had negative value (-1), but there must be at least one NUMA node, so returning NUMA node zero\n",
      "2022-11-09 04:16:51.750408: I tensorflow/stream_executor/cuda/cuda_gpu_executor.cc:937] successful NUMA node read from SysFS had negative value (-1), but there must be at least one NUMA node, so returning NUMA node zero\n",
      "2022-11-09 04:16:51.751045: I tensorflow/stream_executor/cuda/cuda_gpu_executor.cc:937] successful NUMA node read from SysFS had negative value (-1), but there must be at least one NUMA node, so returning NUMA node zero\n",
      "2022-11-09 04:16:53.929111: I tensorflow/stream_executor/cuda/cuda_gpu_executor.cc:937] successful NUMA node read from SysFS had negative value (-1), but there must be at least one NUMA node, so returning NUMA node zero\n",
      "2022-11-09 04:16:53.930303: I tensorflow/stream_executor/cuda/cuda_gpu_executor.cc:937] successful NUMA node read from SysFS had negative value (-1), but there must be at least one NUMA node, so returning NUMA node zero\n",
      "2022-11-09 04:16:53.931355: I tensorflow/stream_executor/cuda/cuda_gpu_executor.cc:937] successful NUMA node read from SysFS had negative value (-1), but there must be at least one NUMA node, so returning NUMA node zero\n",
      "2022-11-09 04:16:53.932267: I tensorflow/core/common_runtime/gpu/gpu_device.cc:1510] Created device /job:localhost/replica:0/task:0/device:GPU:0 with 15401 MB memory:  -> device: 0, name: Tesla P100-PCIE-16GB, pci bus id: 0000:00:04.0, compute capability: 6.0\n"
     ]
    },
    {
     "name": "stdout",
     "output_type": "stream",
     "text": [
      "Downloading data from https://storage.googleapis.com/tensorflow/keras-applications/vgg16/vgg16_weights_tf_dim_ordering_tf_kernels_notop.h5\n",
      "58892288/58889256 [==============================] - 0s 0us/step\n",
      "58900480/58889256 [==============================] - 0s 0us/step\n"
     ]
    }
   ],
   "source": [
    "vgg = A.vgg16.VGG16(weights='imagenet',include_top=False, input_shape=inputs)\n",
    "#vgg.summary()"
   ]
  },
  {
   "cell_type": "code",
   "execution_count": 6,
   "id": "36640fdf",
   "metadata": {
    "execution": {
     "iopub.execute_input": "2022-11-09T04:16:55.269977Z",
     "iopub.status.busy": "2022-11-09T04:16:55.269671Z",
     "iopub.status.idle": "2022-11-09T04:16:55.277391Z",
     "shell.execute_reply": "2022-11-09T04:16:55.276526Z"
    },
    "papermill": {
     "duration": 0.014613,
     "end_time": "2022-11-09T04:16:55.279503",
     "exception": false,
     "start_time": "2022-11-09T04:16:55.264890",
     "status": "completed"
    },
    "tags": []
   },
   "outputs": [],
   "source": [
    "model = Sequential()\n",
    "for layer in vgg.layers[:-4]:\n",
    "  layer.trainable=False"
   ]
  },
  {
   "cell_type": "code",
   "execution_count": 7,
   "id": "eddd68f1",
   "metadata": {
    "execution": {
     "iopub.execute_input": "2022-11-09T04:16:55.288285Z",
     "iopub.status.busy": "2022-11-09T04:16:55.287992Z",
     "iopub.status.idle": "2022-11-09T04:16:55.294012Z",
     "shell.execute_reply": "2022-11-09T04:16:55.293051Z"
    },
    "papermill": {
     "duration": 0.013177,
     "end_time": "2022-11-09T04:16:55.296472",
     "exception": false,
     "start_time": "2022-11-09T04:16:55.283295",
     "status": "completed"
    },
    "tags": []
   },
   "outputs": [
    {
     "name": "stdout",
     "output_type": "stream",
     "text": [
      "<keras.engine.input_layer.InputLayer object at 0x7ff522f83350> False\n",
      "<keras.layers.convolutional.Conv2D object at 0x7ff51bcc7790> False\n",
      "<keras.layers.convolutional.Conv2D object at 0x7ff520dc5190> False\n",
      "<keras.layers.pooling.MaxPooling2D object at 0x7ff580ec3a10> False\n",
      "<keras.layers.convolutional.Conv2D object at 0x7ff520bfedd0> False\n",
      "<keras.layers.convolutional.Conv2D object at 0x7ff51bf64d10> False\n",
      "<keras.layers.pooling.MaxPooling2D object at 0x7ff51bf73d90> False\n",
      "<keras.layers.convolutional.Conv2D object at 0x7ff51bf73f50> False\n",
      "<keras.layers.convolutional.Conv2D object at 0x7ff51bf694d0> False\n",
      "<keras.layers.convolutional.Conv2D object at 0x7ff51bf7d790> False\n",
      "<keras.layers.pooling.MaxPooling2D object at 0x7ff51bf0a990> False\n",
      "<keras.layers.convolutional.Conv2D object at 0x7ff51bf06f90> False\n",
      "<keras.layers.convolutional.Conv2D object at 0x7ff51bf7d190> False\n",
      "<keras.layers.convolutional.Conv2D object at 0x7ff51bf1a0d0> False\n",
      "<keras.layers.pooling.MaxPooling2D object at 0x7ff51bf1a610> False\n",
      "<keras.layers.convolutional.Conv2D object at 0x7ff51bf0ea10> True\n",
      "<keras.layers.convolutional.Conv2D object at 0x7ff51bf255d0> True\n",
      "<keras.layers.convolutional.Conv2D object at 0x7ff51bf2e890> True\n",
      "<keras.layers.pooling.MaxPooling2D object at 0x7ff51bf27fd0> True\n"
     ]
    }
   ],
   "source": [
    "for layer in vgg.layers:\n",
    "  print(layer,layer.trainable)"
   ]
  },
  {
   "cell_type": "code",
   "execution_count": 8,
   "id": "68eb1626",
   "metadata": {
    "execution": {
     "iopub.execute_input": "2022-11-09T04:16:55.306440Z",
     "iopub.status.busy": "2022-11-09T04:16:55.305707Z",
     "iopub.status.idle": "2022-11-09T04:16:55.447049Z",
     "shell.execute_reply": "2022-11-09T04:16:55.445201Z"
    },
    "papermill": {
     "duration": 0.148221,
     "end_time": "2022-11-09T04:16:55.449192",
     "exception": false,
     "start_time": "2022-11-09T04:16:55.300971",
     "status": "completed"
    },
    "tags": []
   },
   "outputs": [
    {
     "name": "stdout",
     "output_type": "stream",
     "text": [
      "Model: \"sequential\"\n",
      "_________________________________________________________________\n",
      "Layer (type)                 Output Shape              Param #   \n",
      "=================================================================\n",
      "vgg16 (Functional)           (None, 7, 10, 512)        14714688  \n",
      "_________________________________________________________________\n",
      "flatten (Flatten)            (None, 35840)             0         \n",
      "_________________________________________________________________\n",
      "batch_normalization (BatchNo (None, 35840)             143360    \n",
      "_________________________________________________________________\n",
      "dense (Dense)                (None, 32)                1146912   \n",
      "_________________________________________________________________\n",
      "dropout (Dropout)            (None, 32)                0         \n",
      "_________________________________________________________________\n",
      "batch_normalization_1 (Batch (None, 32)                128       \n",
      "_________________________________________________________________\n",
      "dense_1 (Dense)              (None, 16)                528       \n",
      "_________________________________________________________________\n",
      "dropout_1 (Dropout)          (None, 16)                0         \n",
      "_________________________________________________________________\n",
      "batch_normalization_2 (Batch (None, 16)                64        \n",
      "_________________________________________________________________\n",
      "dense_2 (Dense)              (None, 8)                 136       \n",
      "_________________________________________________________________\n",
      "dropout_2 (Dropout)          (None, 8)                 0         \n",
      "_________________________________________________________________\n",
      "batch_normalization_3 (Batch (None, 8)                 32        \n",
      "_________________________________________________________________\n",
      "dense_3 (Dense)              (None, 4)                 36        \n",
      "=================================================================\n",
      "Total params: 16,005,884\n",
      "Trainable params: 8,298,828\n",
      "Non-trainable params: 7,707,056\n",
      "_________________________________________________________________\n"
     ]
    }
   ],
   "source": [
    "# Add the vgg convolutional base model\n",
    "model.add(vgg)\n",
    " \n",
    "# Add new layers\n",
    "model.add(Flatten())\n",
    "model.add(BatchNormalization())\n",
    "model.add(Dense(32, activation='relu' ))\n",
    "model.add(Dropout(0.2))\n",
    "model.add(BatchNormalization())\n",
    "model.add(Dense(16, activation='relu' ))\n",
    "model.add(Dropout(0.2))\n",
    "model.add(BatchNormalization())\n",
    "model.add(Dense(8, activation='relu' ))\n",
    "model.add(Dropout(0.2))\n",
    "model.add(BatchNormalization())\n",
    "model.add(Dense(4, activation='softmax'))\n",
    "model.summary()"
   ]
  },
  {
   "cell_type": "code",
   "execution_count": 9,
   "id": "da5fc5c9",
   "metadata": {
    "execution": {
     "iopub.execute_input": "2022-11-09T04:16:55.458217Z",
     "iopub.status.busy": "2022-11-09T04:16:55.457942Z",
     "iopub.status.idle": "2022-11-09T04:16:55.463213Z",
     "shell.execute_reply": "2022-11-09T04:16:55.462203Z"
    },
    "papermill": {
     "duration": 0.011908,
     "end_time": "2022-11-09T04:16:55.465089",
     "exception": false,
     "start_time": "2022-11-09T04:16:55.453181",
     "status": "completed"
    },
    "tags": []
   },
   "outputs": [],
   "source": [
    "train_datagen = ImageDataGenerator(\n",
    "      rescale=1./255,\n",
    "      rotation_range=20,\n",
    "      width_shift_range=0.2,\n",
    "      height_shift_range=0.2,\n",
    "      horizontal_flip=True,\n",
    "      fill_mode='nearest', validation_split=0.25)\n",
    "\n",
    "\n",
    "validation_datagen = ImageDataGenerator(rescale=1./255 )\n",
    " \n",
    "# Change the batchsize according to your system RAM\n",
    "train_batchsize = 20\n",
    "val_batchsize = 20"
   ]
  },
  {
   "cell_type": "code",
   "execution_count": 10,
   "id": "4a1e9023",
   "metadata": {
    "execution": {
     "iopub.execute_input": "2022-11-09T04:16:55.475215Z",
     "iopub.status.busy": "2022-11-09T04:16:55.473805Z",
     "iopub.status.idle": "2022-11-09T04:16:57.223191Z",
     "shell.execute_reply": "2022-11-09T04:16:57.221794Z"
    },
    "papermill": {
     "duration": 1.761009,
     "end_time": "2022-11-09T04:16:57.229966",
     "exception": false,
     "start_time": "2022-11-09T04:16:55.468957",
     "status": "completed"
    },
    "tags": []
   },
   "outputs": [
    {
     "name": "stdout",
     "output_type": "stream",
     "text": [
      "Found 7470 images belonging to 4 classes.\n",
      "Found 2487 images belonging to 4 classes.\n"
     ]
    }
   ],
   "source": [
    "train_generator = train_datagen.flow_from_directory(\n",
    "        train_path,\n",
    "        target_size=(240, 320),\n",
    "        batch_size=train_batchsize,\n",
    "        class_mode='categorical', subset = \"training\")\n",
    " \n",
    "validation_generator = train_datagen.flow_from_directory(\n",
    "        train_path,\n",
    "        target_size=(240, 320),\n",
    "        batch_size=val_batchsize,\n",
    "        class_mode='categorical',\n",
    "        shuffle=False,\n",
    "    subset='validation')"
   ]
  },
  {
   "cell_type": "code",
   "execution_count": 11,
   "id": "688eb218",
   "metadata": {
    "execution": {
     "iopub.execute_input": "2022-11-09T04:16:57.249013Z",
     "iopub.status.busy": "2022-11-09T04:16:57.248015Z",
     "iopub.status.idle": "2022-11-09T04:16:57.280517Z",
     "shell.execute_reply": "2022-11-09T04:16:57.279449Z"
    },
    "papermill": {
     "duration": 0.046262,
     "end_time": "2022-11-09T04:16:57.285092",
     "exception": false,
     "start_time": "2022-11-09T04:16:57.238830",
     "status": "completed"
    },
    "tags": []
   },
   "outputs": [
    {
     "name": "stderr",
     "output_type": "stream",
     "text": [
      "/opt/conda/lib/python3.7/site-packages/keras/optimizer_v2/optimizer_v2.py:356: UserWarning: The `lr` argument is deprecated, use `learning_rate` instead.\n",
      "  \"The `lr` argument is deprecated, use `learning_rate` instead.\")\n"
     ]
    }
   ],
   "source": [
    "model.compile(loss='categorical_crossentropy',\n",
    "              optimizer=Adam(lr=1e-4),\n",
    "              metrics=['acc'])"
   ]
  },
  {
   "cell_type": "code",
   "execution_count": 12,
   "id": "80e86777",
   "metadata": {
    "execution": {
     "iopub.execute_input": "2022-11-09T04:16:57.303590Z",
     "iopub.status.busy": "2022-11-09T04:16:57.303274Z",
     "iopub.status.idle": "2022-11-09T04:50:18.173270Z",
     "shell.execute_reply": "2022-11-09T04:50:18.172207Z"
    },
    "papermill": {
     "duration": 2001.068976,
     "end_time": "2022-11-09T04:50:18.363691",
     "exception": false,
     "start_time": "2022-11-09T04:16:57.294715",
     "status": "completed"
    },
    "tags": []
   },
   "outputs": [
    {
     "name": "stderr",
     "output_type": "stream",
     "text": [
      "/opt/conda/lib/python3.7/site-packages/keras/engine/training.py:1972: UserWarning: `Model.fit_generator` is deprecated and will be removed in a future version. Please use `Model.fit`, which supports generators.\n",
      "  warnings.warn('`Model.fit_generator` is deprecated and '\n",
      "2022-11-09 04:16:58.009121: I tensorflow/compiler/mlir/mlir_graph_optimization_pass.cc:185] None of the MLIR Optimization Passes are enabled (registered 2)\n"
     ]
    },
    {
     "name": "stdout",
     "output_type": "stream",
     "text": [
      "Epoch 1/10\n"
     ]
    },
    {
     "name": "stderr",
     "output_type": "stream",
     "text": [
      "2022-11-09 04:17:00.563787: I tensorflow/stream_executor/cuda/cuda_dnn.cc:369] Loaded cuDNN version 8005\n"
     ]
    },
    {
     "name": "stdout",
     "output_type": "stream",
     "text": [
      "373/373 [==============================] - 214s 547ms/step - loss: 1.5322 - acc: 0.3079 - val_loss: 1.3831 - val_acc: 0.3129\n",
      "Epoch 2/10\n",
      "373/373 [==============================] - 182s 487ms/step - loss: 1.3097 - acc: 0.4064 - val_loss: 1.1823 - val_acc: 0.4452\n",
      "Epoch 3/10\n",
      "373/373 [==============================] - 181s 486ms/step - loss: 1.1798 - acc: 0.4729 - val_loss: 1.0733 - val_acc: 0.5492\n",
      "Epoch 4/10\n",
      "373/373 [==============================] - 185s 495ms/step - loss: 1.0548 - acc: 0.5519 - val_loss: 1.3761 - val_acc: 0.4746\n",
      "Epoch 5/10\n",
      "373/373 [==============================] - 181s 486ms/step - loss: 0.9368 - acc: 0.6149 - val_loss: 0.7764 - val_acc: 0.7613\n",
      "Epoch 6/10\n",
      "373/373 [==============================] - 181s 484ms/step - loss: 0.8470 - acc: 0.6799 - val_loss: 0.5790 - val_acc: 0.8077\n",
      "Epoch 7/10\n",
      "373/373 [==============================] - 183s 490ms/step - loss: 0.7901 - acc: 0.7243 - val_loss: 0.6727 - val_acc: 0.7242\n",
      "Epoch 8/10\n",
      "373/373 [==============================] - 183s 491ms/step - loss: 0.7114 - acc: 0.7732 - val_loss: 0.4774 - val_acc: 0.9097\n",
      "Epoch 9/10\n",
      "373/373 [==============================] - 182s 487ms/step - loss: 0.6430 - acc: 0.8060 - val_loss: 0.5254 - val_acc: 0.8323\n",
      "Epoch 10/10\n",
      "373/373 [==============================] - 184s 493ms/step - loss: 0.5710 - acc: 0.8421 - val_loss: 0.3370 - val_acc: 0.9464\n"
     ]
    }
   ],
   "source": [
    "# Train the model\n",
    "history = model.fit_generator(\n",
    "      train_generator,\n",
    "      steps_per_epoch=train_generator.samples//train_generator.batch_size ,\n",
    "      epochs=10,\n",
    "      validation_data=validation_generator,\n",
    "      validation_steps=validation_generator.samples//validation_generator.batch_size,\n",
    "      verbose=1)\n"
   ]
  },
  {
   "cell_type": "code",
   "execution_count": 13,
   "id": "7a1d5b0f",
   "metadata": {
    "execution": {
     "iopub.execute_input": "2022-11-09T04:50:18.744931Z",
     "iopub.status.busy": "2022-11-09T04:50:18.744580Z",
     "iopub.status.idle": "2022-11-09T04:50:19.135749Z",
     "shell.execute_reply": "2022-11-09T04:50:19.134812Z"
    },
    "papermill": {
     "duration": 0.584184,
     "end_time": "2022-11-09T04:50:19.137888",
     "exception": false,
     "start_time": "2022-11-09T04:50:18.553704",
     "status": "completed"
    },
    "tags": []
   },
   "outputs": [
    {
     "data": {
      "image/png": "[encoded data removed]",
      "text/plain": [
       "<Figure size 432x288 with 1 Axes>"
      ]
     },
     "metadata": {
      "needs_background": "light"
     },
     "output_type": "display_data"
    },
    {
     "data": {
      "image/png": "[encoded data removed]",
      "text/plain": [
       "<Figure size 432x288 with 1 Axes>"
      ]
     },
     "metadata": {
      "needs_background": "light"
     },
     "output_type": "display_data"
    }
   ],
   "source": [
    "acc = history.history['acc']\n",
    "val_acc = history.history['val_acc']\n",
    "loss = history.history['loss']\n",
    "val_loss = history.history['val_loss']\n",
    " \n",
    "epochs = range(len(acc))\n",
    " \n",
    "plt.plot(epochs, acc, 'b', label='Training acc')\n",
    "plt.plot(epochs, val_acc, 'r', label='Validation acc')\n",
    "plt.title('Training and validation accuracy')\n",
    "plt.legend()\n",
    " \n",
    "plt.figure()\n",
    " \n",
    "plt.plot(epochs, loss, 'b', label='Training loss')\n",
    "plt.plot(epochs, val_loss, 'r', label='Validation loss')\n",
    "plt.title('Training and validation loss')\n",
    "plt.legend()\n",
    " \n",
    "plt.show()"
   ]
  }
 ],
 "metadata": {
  "kernelspec": {
   "display_name": "Python 3",
   "language": "python",
   "name": "python3"
  },
  "language_info": {
   "codemirror_mode": {
    "name": "ipython",
    "version": 3
   },
   "file_extension": ".py",
   "mimetype": "text/x-python",
   "name": "python",
   "nbconvert_exporter": "python",
   "pygments_lexer": "ipython3",
   "version": "3.8.8"
  },
  "papermill": {
   "default_parameters": {},
   "duration": 2029.137249,
   "end_time": "2022-11-09T04:50:22.182624",
   "environment_variables": {},
   "exception": null,
   "input_path": "__notebook__.ipynb",
   "output_path": "__notebook__.ipynb",
   "parameters": {},
   "start_time": "2022-11-09T04:16:33.045375",
   "version": "2.3.4"
  }
 },
 "nbformat": 4,
 "nbformat_minor": 5
}
